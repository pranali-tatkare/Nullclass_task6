{
 "cells": [
  {
   "cell_type": "code",
   "execution_count": null,
   "id": "31444d75",
   "metadata": {},
   "outputs": [],
   "source": [
    "# Task 6 :Create a feature to translate the audio into Hindi . \n",
    "#The system will listen the english audio from user and it will convert into Hindi word. \n",
    "#If the system does not understand the audio it will ask repeat one more time to make it better..\n",
    "#The audio should be in English word only . This translation feature work on only after 6 PM IST timing a\n",
    "#nd before that it should show message like please try after 6 PM IST as well as it \n",
    "#should not translate any english which is start with M and O apart from that it should translate all other words"
   ]
  },
  {
   "cell_type": "code",
   "execution_count": 6,
   "id": "e09d2ce6",
   "metadata": {},
   "outputs": [
    {
     "name": "stdout",
     "output_type": "stream",
     "text": [
      "Requirement already satisfied: SpeechRecognition in c:\\users\\hp\\anaconda3\\lib\\site-packages (3.10.4)\n",
      "Requirement already satisfied: typing-extensions in c:\\users\\hp\\anaconda3\\lib\\site-packages (from SpeechRecognition) (4.3.0)\n",
      "Requirement already satisfied: requests>=2.26.0 in c:\\users\\hp\\anaconda3\\lib\\site-packages (from SpeechRecognition) (2.28.1)\n",
      "Requirement already satisfied: charset-normalizer<3,>=2 in c:\\users\\hp\\anaconda3\\lib\\site-packages (from requests>=2.26.0->SpeechRecognition) (2.0.4)\n",
      "Requirement already satisfied: certifi>=2017.4.17 in c:\\users\\hp\\anaconda3\\lib\\site-packages (from requests>=2.26.0->SpeechRecognition) (2022.9.14)\n",
      "Requirement already satisfied: urllib3<1.27,>=1.21.1 in c:\\users\\hp\\anaconda3\\lib\\site-packages (from requests>=2.26.0->SpeechRecognition) (1.26.11)\n",
      "Requirement already satisfied: idna<4,>=2.5 in c:\\users\\hp\\anaconda3\\lib\\site-packages (from requests>=2.26.0->SpeechRecognition) (2.10)\n",
      "Requirement already satisfied: gTTS in c:\\users\\hp\\anaconda3\\lib\\site-packages (2.5.1)\n",
      "Requirement already satisfied: click<8.2,>=7.1 in c:\\users\\hp\\anaconda3\\lib\\site-packages (from gTTS) (8.0.4)\n",
      "Requirement already satisfied: requests<3,>=2.27 in c:\\users\\hp\\anaconda3\\lib\\site-packages (from gTTS) (2.28.1)\n",
      "Requirement already satisfied: colorama in c:\\users\\hp\\anaconda3\\lib\\site-packages (from click<8.2,>=7.1->gTTS) (0.4.5)\n",
      "Requirement already satisfied: idna<4,>=2.5 in c:\\users\\hp\\anaconda3\\lib\\site-packages (from requests<3,>=2.27->gTTS) (2.10)\n",
      "Requirement already satisfied: urllib3<1.27,>=1.21.1 in c:\\users\\hp\\anaconda3\\lib\\site-packages (from requests<3,>=2.27->gTTS) (1.26.11)\n",
      "Requirement already satisfied: certifi>=2017.4.17 in c:\\users\\hp\\anaconda3\\lib\\site-packages (from requests<3,>=2.27->gTTS) (2022.9.14)\n",
      "Requirement already satisfied: charset-normalizer<3,>=2 in c:\\users\\hp\\anaconda3\\lib\\site-packages (from requests<3,>=2.27->gTTS) (2.0.4)\n",
      "Requirement already satisfied: pyaudio in c:\\users\\hp\\anaconda3\\lib\\site-packages (0.2.14)\n"
     ]
    }
   ],
   "source": [
    "!pip install SpeechRecognition\n",
    "!pip install gTTS\n",
    "!pip install pyaudio\n"
   ]
  },
  {
   "cell_type": "code",
   "execution_count": 8,
   "id": "b2cf2917",
   "metadata": {},
   "outputs": [],
   "source": [
    "import speech_recognition as sr\n",
    "from gtts import gTTS\n",
    "import os\n",
    "import datetime"
   ]
  },
  {
   "cell_type": "code",
   "execution_count": 9,
   "id": "74ddd9ea",
   "metadata": {},
   "outputs": [
    {
     "name": "stdout",
     "output_type": "stream",
     "text": [
      "Please speak in English:\n",
      "Translating...\n",
      "Sorry, I didn't understand that. Could you please repeat?\n"
     ]
    }
   ],
   "source": [
    "\n",
    "\n",
    "def translate_audio_to_hindi():\n",
    "    now = datetime.datetime.now()\n",
    "    if now.hour < 18:\n",
    "        print(\"Please try after 6 PM IST.\")\n",
    "        return\n",
    "\n",
    "    recognizer = sr.Recognizer()\n",
    "\n",
    "    try:\n",
    "        with sr.Microphone() as source:\n",
    "            print(\"Please speak in English:\")\n",
    "            audio = recognizer.listen(source, timeout=5)\n",
    "\n",
    "        print(\"Translating...\")\n",
    "\n",
    "        try:\n",
    "            text = recognizer.recognize_google(audio, language=\"en-IN\")\n",
    "            print(\"English Input:\", text)\n",
    "\n",
    "            if text.lower().startswith(('m', 'o')):\n",
    "                print(\"Sorry, I can't translate words starting with 'M' or 'O'.\")\n",
    "                return\n",
    "\n",
    "            # You can add your translation logic here\n",
    "            translation = \"Your translation logic here for: \" + text\n",
    "\n",
    "            print(\"Hindi Output:\", translation)\n",
    "\n",
    "            # Convert translated text to Hindi audio\n",
    "            hindi_audio = gTTS(text=translation, lang='hi', slow=False)\n",
    "            hindi_audio.save(\"translated_audio.mp3\")\n",
    "\n",
    "            # Play the translated audio\n",
    "            os.system(\"start translated_audio.mp3\")\n",
    "\n",
    "        except sr.UnknownValueError:\n",
    "            print(\"Sorry, I didn't understand that. Could you please repeat?\")\n",
    "            return\n",
    "        except sr.RequestError as e:\n",
    "            print(\"Could not request results from Google Speech Recognition service; {0}\".format(e))\n",
    "            return\n",
    "\n",
    "    except sr.WaitTimeoutError:\n",
    "        print(\"No speech detected. Please try again.\")\n",
    "\n",
    "if __name__ == \"__main__\":\n",
    "    translate_audio_to_hindi()\n",
    "\n"
   ]
  },
  {
   "cell_type": "code",
   "execution_count": null,
   "id": "7fec2b43",
   "metadata": {},
   "outputs": [],
   "source": []
  },
  {
   "cell_type": "code",
   "execution_count": 10,
   "id": "c869c6e7",
   "metadata": {},
   "outputs": [
    {
     "name": "stdout",
     "output_type": "stream",
     "text": [
      "Requirement already satisfied: speechrecognition in c:\\users\\hp\\anaconda3\\lib\\site-packages (3.10.4)\n",
      "Requirement already satisfied: gtts in c:\\users\\hp\\anaconda3\\lib\\site-packages (2.5.1)\n"
     ]
    },
    {
     "name": "stderr",
     "output_type": "stream",
     "text": [
      "ERROR: Could not find a version that satisfies the requirement tkinter (from versions: none)\n",
      "ERROR: No matching distribution found for tkinter\n"
     ]
    }
   ],
   "source": [
    "!pip install speechrecognition gtts tkinter\n"
   ]
  },
  {
   "cell_type": "code",
   "execution_count": null,
   "id": "968f3e9c",
   "metadata": {},
   "outputs": [],
   "source": []
  },
  {
   "cell_type": "code",
   "execution_count": 11,
   "id": "63243928",
   "metadata": {},
   "outputs": [
    {
     "name": "stderr",
     "output_type": "stream",
     "text": [
      "Exception in Tkinter callback\n",
      "Traceback (most recent call last):\n",
      "  File \"C:\\Users\\HP\\anaconda3\\lib\\tkinter\\__init__.py\", line 1892, in __call__\n",
      "    return self.func(*args)\n",
      "  File \"C:\\Users\\HP\\AppData\\Local\\Temp\\ipykernel_12332\\1305069832.py\", line 19, in recognize_and_translate\n",
      "    info_label.config(text=\"Listening...\")\n",
      "NameError: name 'info_label' is not defined\n"
     ]
    }
   ],
   "source": [
    "import tkinter as tk\n",
    "from tkinter import messagebox\n",
    "import speech_recognition as sr\n",
    "from gtts import gTTS\n",
    "import os\n",
    "import datetime\n",
    "\n",
    "# Function to recognize speech and translate to Hindi\n",
    "def recognize_and_translate():\n",
    "    now = datetime.datetime.now()\n",
    "    if now.hour < 18:\n",
    "        messagebox.showinfo(\"Time Restriction\", \"Please try after 6 PM IST.\")\n",
    "        return\n",
    "\n",
    "    recognizer = sr.Recognizer()\n",
    "\n",
    "    try:\n",
    "        with sr.Microphone() as source:\n",
    "            info_label.config(text=\"Listening...\")\n",
    "            root.update()\n",
    "\n",
    "            audio = recognizer.listen(source, timeout=5)\n",
    "\n",
    "        info_label.config(text=\"Translating...\")\n",
    "        root.update()\n",
    "\n",
    "        try:\n",
    "            text = recognizer.recognize_google(audio, language=\"en-IN\")\n",
    "            input_label.config(text=f\"English Input: {text}\")\n",
    "\n",
    "            if text.lower().startswith(('m', 'o')):\n",
    "                messagebox.showwarning(\"Translation Error\", \"Sorry, I can't translate words starting with 'M' or 'O'.\")\n",
    "                return\n",
    "\n",
    "            # Translate to Hindi\n",
    "            translation = str(TextBlob(text).translate(to='hi'))\n",
    "\n",
    "            output_label.config(text=f\"Hindi Output: {translation}\")\n",
    "\n",
    "            # Convert translated text to Hindi audio\n",
    "            hindi_audio = gTTS(text=translation, lang='hi', slow=False)\n",
    "            hindi_audio.save(\"translated_audio.mp3\")\n",
    "\n",
    "            # Play the translated audio\n",
    "            os.system(\"start translated_audio.mp3\")\n",
    "\n",
    "        except sr.UnknownValueError:\n",
    "            messagebox.showwarning(\"Recognition Error\", \"Sorry, I didn't understand that. Could you please repeat?\")\n",
    "            return\n",
    "        except sr.RequestError as e:\n",
    "            messagebox.showerror(\"Recognition Error\", f\"Could not request results from Google Speech Recognition service; {e}\")\n",
    "            return\n",
    "\n",
    "    except sr.WaitTimeoutError:\n",
    "        messagebox.showinfo(\"Timeout\", \"No speech detected. Please try again.\")\n",
    "\n",
    "# GUI class\n",
    "class SpeechTranslatorGUI:\n",
    "    def __init__(self, root):\n",
    "        self.root = root\n",
    "        self.root.title(\"Speech Translator (English to Hindi)\")\n",
    "\n",
    "        self.info_label = tk.Label(self.root, text=\"Click 'Start' and speak in English to translate to Hindi.\")\n",
    "        self.info_label.pack(pady=10)\n",
    "\n",
    "        self.input_label = tk.Label(self.root, text=\"English Input:\")\n",
    "        self.input_label.pack()\n",
    "\n",
    "        self.output_label = tk.Label(self.root, text=\"Hindi Output:\")\n",
    "        self.output_label.pack()\n",
    "\n",
    "        self.start_button = tk.Button(self.root, text=\"Start\", command=recognize_and_translate)\n",
    "        self.start_button.pack(pady=10)\n",
    "\n",
    "        self.exit_button = tk.Button(self.root, text=\"Exit\", command=self.root.quit)\n",
    "        self.exit_button.pack(pady=10)\n",
    "\n",
    "# Main function\n",
    "def main():\n",
    "    root = tk.Tk()\n",
    "    app = SpeechTranslatorGUI(root)\n",
    "    root.mainloop()\n",
    "\n",
    "if __name__ == \"__main__\":\n",
    "    main()\n"
   ]
  },
  {
   "cell_type": "code",
   "execution_count": null,
   "id": "ffea4f2a",
   "metadata": {},
   "outputs": [],
   "source": [
    "\n",
    "            \n",
    "\n",
    "\n",
    "\n",
    "\n"
   ]
  },
  {
   "cell_type": "code",
   "execution_count": null,
   "id": "8d1141bc",
   "metadata": {},
   "outputs": [],
   "source": []
  }
 ],
 "metadata": {
  "kernelspec": {
   "display_name": "Python 3 (ipykernel)",
   "language": "python",
   "name": "python3"
  },
  "language_info": {
   "codemirror_mode": {
    "name": "ipython",
    "version": 3
   },
   "file_extension": ".py",
   "mimetype": "text/x-python",
   "name": "python",
   "nbconvert_exporter": "python",
   "pygments_lexer": "ipython3",
   "version": "3.9.13"
  }
 },
 "nbformat": 4,
 "nbformat_minor": 5
}
